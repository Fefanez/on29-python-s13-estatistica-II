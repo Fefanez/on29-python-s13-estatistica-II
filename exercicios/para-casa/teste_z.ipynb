{
  "nbformat": 4,
  "nbformat_minor": 0,
  "metadata": {
    "colab": {
      "provenance": []
    },
    "kernelspec": {
      "name": "python3",
      "display_name": "Python 3"
    },
    "language_info": {
      "name": "python"
    }
  },
  "cells": [
    {
      "cell_type": "markdown",
      "source": [
        "# Teste Z\n",
        "\n",
        "Vamos analisar dados do ENEM 2019 para investigar se a proporção de mulheres com mais de 20 anos de idade é significativamente maior do que 50%. Para isso, utilizaremos um teste estatístico poderoso: o teste z de uma proporção. Esse teste nos permite comparar a proporção amostral de mulheres com mais de 20 anos com uma proporção populacional predefinida (neste caso, 50%).\n",
        "\n",
        "---\n",
        "\n",
        "\n",
        "**Hipótese Nula (H0): a proporção de mulheres com mais de 20 anos na população é de 50%.**\n",
        "\n",
        "**Hipótese Alternativa (H1): a proporção de mulheres com mais de 20 anos na população é maior que 50%.**\n",
        "\n",
        "\n",
        "---\n",
        "\n",
        "\n",
        "O teste z de uma proporção calcula a estatística z, que mede a diferença entre a proporção amostral e a proporção populacional, levando em conta o tamanho da amostra. O valor p do teste indica a probabilidade de observar os resultados obtidos se a hipótese nula fosse verdadeira.\n",
        "\n",
        "Além do cálculo estatístico, iremos construir um gráfico da distribuição normal padrão para visualizar a estatística z calculada e a área correspondente ao valor p. Essa representação gráfica nos auxiliará na interpretação dos resultados do teste e na visualização da probabilidade associada à hipótese nula.\n",
        "\n",
        "Com este teste, esperamos obter insights sobre a composição demográfica das mulheres que participaram do ENEM 2019, utilizando o teste z como ferramenta para analisar se a proporção de mulheres com mais de 20 anos diverge significativamente da expectativa de 50%."
      ],
      "metadata": {
        "id": "j0ydGm4dNOrs"
      }
    },
    {
      "cell_type": "code",
      "execution_count": 63,
      "metadata": {
        "id": "i0mBRCu1NNZ6"
      },
      "outputs": [],
      "source": [
        "import pandas as pd  # Importa a biblioteca pandas para manipulação de dados em formato tabular (DataFrames).\n",
        "from statsmodels.stats.proportion import proportions_ztest  # Importa a função proportions_ztest do módulo statsmodels.stats.proportion para realizar o teste z de uma proporção.\n",
        "from scipy.stats import norm  # Importa a distribuição normal da biblioteca scipy.stats para plotar o gráfico da distribuição normal.\n",
        "import numpy as np  # Importa a biblioteca numpy para operações numéricas e criação de arrays.\n",
        "import matplotlib.pyplot as plt  # Importa a biblioteca matplotlib.pyplot para plotar gráficos."
      ]
    },
    {
      "cell_type": "markdown",
      "source": [
        "---\n",
        "# Explicação:\n",
        "\n",
        "---\n",
        "* **import pandas as pd**: Importa a biblioteca pandas, que é essencial para manipular e analisar dados em formato tabular (como tabelas). Ela fornece ferramentas para ler arquivos, filtrar dados, calcular estatísticas e muito mais.\n",
        "* **from statsmodels.stats.proportion import proportions_ztest**: Importa a função proportions_ztest do módulo statsmodels.stats.proportion, que realiza o teste z de uma proporção. Esse teste é usado para comparar a proporção de uma amostra com uma proporção populacional conhecida.\n",
        "* **from scipy.stats import norm**: Importa a distribuição normal da biblioteca scipy.stats. Essa distribuição é usada para criar o gráfico da distribuição normal, que é uma representação visual do teste z.\n",
        "* **import numpy as np**: Importa a biblioteca numpy, que é fundamental para cálculos numéricos e operações com arrays multidimensionais (matrizes).\n",
        "* **import matplotlib.pyplot as plt**: Importa a biblioteca matplotlib.pyplot, que é usada para criar gráficos de diferentes tipos."
      ],
      "metadata": {
        "id": "CovmLvq3O1Dx"
      }
    },
    {
      "cell_type": "code",
      "source": [
        "# 1. Carregar a tabela de dados\n",
        "data = pd.read_csv('enem_2019.csv')  # Lê a tabela de dados do arquivo CSV \"enem_2019.csv\" e a armazena no DataFrame data."
      ],
      "metadata": {
        "id": "_r1dAfmwO1a8"
      },
      "execution_count": 64,
      "outputs": []
    },
    {
      "cell_type": "markdown",
      "source": [
        "---\n",
        "# Explicação:\n",
        "\n",
        "---\n",
        "* **data = pd.read_csv('enem_2019.csv')**: Lê os dados do arquivo CSV \"enem_2019.csv\" e os armazena em um DataFrame do Pandas chamado data. Essa é a primeira etapa para carregar os dados que serão analisados."
      ],
      "metadata": {
        "id": "jHacjV1YO4wp"
      }
    },
    {
      "cell_type": "code",
      "source": [
        "# 2. Filtrar as mulheres\n",
        "df_mulheres = data[data[\"sexo\"] == \"F\"][[\"idade\", \"sexo\"]]  # Cria um novo DataFrame df_mulheres contendo apenas as linhas do DataFrame original (data) onde o sexo é \"F\" (feminino) e seleciona as colunas \"idade\" e \"sexo\".\n",
        "df_mulheres"
      ],
      "metadata": {
        "colab": {
          "base_uri": "https://localhost:8080/",
          "height": 424
        },
        "id": "9zj0ETjEO5I3",
        "outputId": "fd61ea07-a13b-43d0-dcc0-737dc0423644"
      },
      "execution_count": 65,
      "outputs": [
        {
          "output_type": "execute_result",
          "data": {
            "text/plain": [
              "         idade sexo\n",
              "1           16    F\n",
              "2           18    F\n",
              "6           30    F\n",
              "7           26    F\n",
              "9           17    F\n",
              "...        ...  ...\n",
              "4488344     43    F\n",
              "4488346     17    F\n",
              "4488347     23    F\n",
              "4488348     21    F\n",
              "4488351     17    F\n",
              "\n",
              "[2712847 rows x 2 columns]"
            ],
            "text/html": [
              "\n",
              "  <div id=\"df-53efaf6f-1002-4f16-a0d4-e2401c697094\" class=\"colab-df-container\">\n",
              "    <div>\n",
              "<style scoped>\n",
              "    .dataframe tbody tr th:only-of-type {\n",
              "        vertical-align: middle;\n",
              "    }\n",
              "\n",
              "    .dataframe tbody tr th {\n",
              "        vertical-align: top;\n",
              "    }\n",
              "\n",
              "    .dataframe thead th {\n",
              "        text-align: right;\n",
              "    }\n",
              "</style>\n",
              "<table border=\"1\" class=\"dataframe\">\n",
              "  <thead>\n",
              "    <tr style=\"text-align: right;\">\n",
              "      <th></th>\n",
              "      <th>idade</th>\n",
              "      <th>sexo</th>\n",
              "    </tr>\n",
              "  </thead>\n",
              "  <tbody>\n",
              "    <tr>\n",
              "      <th>1</th>\n",
              "      <td>16</td>\n",
              "      <td>F</td>\n",
              "    </tr>\n",
              "    <tr>\n",
              "      <th>2</th>\n",
              "      <td>18</td>\n",
              "      <td>F</td>\n",
              "    </tr>\n",
              "    <tr>\n",
              "      <th>6</th>\n",
              "      <td>30</td>\n",
              "      <td>F</td>\n",
              "    </tr>\n",
              "    <tr>\n",
              "      <th>7</th>\n",
              "      <td>26</td>\n",
              "      <td>F</td>\n",
              "    </tr>\n",
              "    <tr>\n",
              "      <th>9</th>\n",
              "      <td>17</td>\n",
              "      <td>F</td>\n",
              "    </tr>\n",
              "    <tr>\n",
              "      <th>...</th>\n",
              "      <td>...</td>\n",
              "      <td>...</td>\n",
              "    </tr>\n",
              "    <tr>\n",
              "      <th>4488344</th>\n",
              "      <td>43</td>\n",
              "      <td>F</td>\n",
              "    </tr>\n",
              "    <tr>\n",
              "      <th>4488346</th>\n",
              "      <td>17</td>\n",
              "      <td>F</td>\n",
              "    </tr>\n",
              "    <tr>\n",
              "      <th>4488347</th>\n",
              "      <td>23</td>\n",
              "      <td>F</td>\n",
              "    </tr>\n",
              "    <tr>\n",
              "      <th>4488348</th>\n",
              "      <td>21</td>\n",
              "      <td>F</td>\n",
              "    </tr>\n",
              "    <tr>\n",
              "      <th>4488351</th>\n",
              "      <td>17</td>\n",
              "      <td>F</td>\n",
              "    </tr>\n",
              "  </tbody>\n",
              "</table>\n",
              "<p>2712847 rows × 2 columns</p>\n",
              "</div>\n",
              "    <div class=\"colab-df-buttons\">\n",
              "\n",
              "  <div class=\"colab-df-container\">\n",
              "    <button class=\"colab-df-convert\" onclick=\"convertToInteractive('df-53efaf6f-1002-4f16-a0d4-e2401c697094')\"\n",
              "            title=\"Convert this dataframe to an interactive table.\"\n",
              "            style=\"display:none;\">\n",
              "\n",
              "  <svg xmlns=\"http://www.w3.org/2000/svg\" height=\"24px\" viewBox=\"0 -960 960 960\">\n",
              "    <path d=\"M120-120v-720h720v720H120Zm60-500h600v-160H180v160Zm220 220h160v-160H400v160Zm0 220h160v-160H400v160ZM180-400h160v-160H180v160Zm440 0h160v-160H620v160ZM180-180h160v-160H180v160Zm440 0h160v-160H620v160Z\"/>\n",
              "  </svg>\n",
              "    </button>\n",
              "\n",
              "  <style>\n",
              "    .colab-df-container {\n",
              "      display:flex;\n",
              "      gap: 12px;\n",
              "    }\n",
              "\n",
              "    .colab-df-convert {\n",
              "      background-color: #E8F0FE;\n",
              "      border: none;\n",
              "      border-radius: 50%;\n",
              "      cursor: pointer;\n",
              "      display: none;\n",
              "      fill: #1967D2;\n",
              "      height: 32px;\n",
              "      padding: 0 0 0 0;\n",
              "      width: 32px;\n",
              "    }\n",
              "\n",
              "    .colab-df-convert:hover {\n",
              "      background-color: #E2EBFA;\n",
              "      box-shadow: 0px 1px 2px rgba(60, 64, 67, 0.3), 0px 1px 3px 1px rgba(60, 64, 67, 0.15);\n",
              "      fill: #174EA6;\n",
              "    }\n",
              "\n",
              "    .colab-df-buttons div {\n",
              "      margin-bottom: 4px;\n",
              "    }\n",
              "\n",
              "    [theme=dark] .colab-df-convert {\n",
              "      background-color: #3B4455;\n",
              "      fill: #D2E3FC;\n",
              "    }\n",
              "\n",
              "    [theme=dark] .colab-df-convert:hover {\n",
              "      background-color: #434B5C;\n",
              "      box-shadow: 0px 1px 3px 1px rgba(0, 0, 0, 0.15);\n",
              "      filter: drop-shadow(0px 1px 2px rgba(0, 0, 0, 0.3));\n",
              "      fill: #FFFFFF;\n",
              "    }\n",
              "  </style>\n",
              "\n",
              "    <script>\n",
              "      const buttonEl =\n",
              "        document.querySelector('#df-53efaf6f-1002-4f16-a0d4-e2401c697094 button.colab-df-convert');\n",
              "      buttonEl.style.display =\n",
              "        google.colab.kernel.accessAllowed ? 'block' : 'none';\n",
              "\n",
              "      async function convertToInteractive(key) {\n",
              "        const element = document.querySelector('#df-53efaf6f-1002-4f16-a0d4-e2401c697094');\n",
              "        const dataTable =\n",
              "          await google.colab.kernel.invokeFunction('convertToInteractive',\n",
              "                                                    [key], {});\n",
              "        if (!dataTable) return;\n",
              "\n",
              "        const docLinkHtml = 'Like what you see? Visit the ' +\n",
              "          '<a target=\"_blank\" href=https://colab.research.google.com/notebooks/data_table.ipynb>data table notebook</a>'\n",
              "          + ' to learn more about interactive tables.';\n",
              "        element.innerHTML = '';\n",
              "        dataTable['output_type'] = 'display_data';\n",
              "        await google.colab.output.renderOutput(dataTable, element);\n",
              "        const docLink = document.createElement('div');\n",
              "        docLink.innerHTML = docLinkHtml;\n",
              "        element.appendChild(docLink);\n",
              "      }\n",
              "    </script>\n",
              "  </div>\n",
              "\n",
              "\n",
              "<div id=\"df-2648eb2e-31c5-4d95-abd0-0261afe0414d\">\n",
              "  <button class=\"colab-df-quickchart\" onclick=\"quickchart('df-2648eb2e-31c5-4d95-abd0-0261afe0414d')\"\n",
              "            title=\"Suggest charts\"\n",
              "            style=\"display:none;\">\n",
              "\n",
              "<svg xmlns=\"http://www.w3.org/2000/svg\" height=\"24px\"viewBox=\"0 0 24 24\"\n",
              "     width=\"24px\">\n",
              "    <g>\n",
              "        <path d=\"M19 3H5c-1.1 0-2 .9-2 2v14c0 1.1.9 2 2 2h14c1.1 0 2-.9 2-2V5c0-1.1-.9-2-2-2zM9 17H7v-7h2v7zm4 0h-2V7h2v10zm4 0h-2v-4h2v4z\"/>\n",
              "    </g>\n",
              "</svg>\n",
              "  </button>\n",
              "\n",
              "<style>\n",
              "  .colab-df-quickchart {\n",
              "      --bg-color: #E8F0FE;\n",
              "      --fill-color: #1967D2;\n",
              "      --hover-bg-color: #E2EBFA;\n",
              "      --hover-fill-color: #174EA6;\n",
              "      --disabled-fill-color: #AAA;\n",
              "      --disabled-bg-color: #DDD;\n",
              "  }\n",
              "\n",
              "  [theme=dark] .colab-df-quickchart {\n",
              "      --bg-color: #3B4455;\n",
              "      --fill-color: #D2E3FC;\n",
              "      --hover-bg-color: #434B5C;\n",
              "      --hover-fill-color: #FFFFFF;\n",
              "      --disabled-bg-color: #3B4455;\n",
              "      --disabled-fill-color: #666;\n",
              "  }\n",
              "\n",
              "  .colab-df-quickchart {\n",
              "    background-color: var(--bg-color);\n",
              "    border: none;\n",
              "    border-radius: 50%;\n",
              "    cursor: pointer;\n",
              "    display: none;\n",
              "    fill: var(--fill-color);\n",
              "    height: 32px;\n",
              "    padding: 0;\n",
              "    width: 32px;\n",
              "  }\n",
              "\n",
              "  .colab-df-quickchart:hover {\n",
              "    background-color: var(--hover-bg-color);\n",
              "    box-shadow: 0 1px 2px rgba(60, 64, 67, 0.3), 0 1px 3px 1px rgba(60, 64, 67, 0.15);\n",
              "    fill: var(--button-hover-fill-color);\n",
              "  }\n",
              "\n",
              "  .colab-df-quickchart-complete:disabled,\n",
              "  .colab-df-quickchart-complete:disabled:hover {\n",
              "    background-color: var(--disabled-bg-color);\n",
              "    fill: var(--disabled-fill-color);\n",
              "    box-shadow: none;\n",
              "  }\n",
              "\n",
              "  .colab-df-spinner {\n",
              "    border: 2px solid var(--fill-color);\n",
              "    border-color: transparent;\n",
              "    border-bottom-color: var(--fill-color);\n",
              "    animation:\n",
              "      spin 1s steps(1) infinite;\n",
              "  }\n",
              "\n",
              "  @keyframes spin {\n",
              "    0% {\n",
              "      border-color: transparent;\n",
              "      border-bottom-color: var(--fill-color);\n",
              "      border-left-color: var(--fill-color);\n",
              "    }\n",
              "    20% {\n",
              "      border-color: transparent;\n",
              "      border-left-color: var(--fill-color);\n",
              "      border-top-color: var(--fill-color);\n",
              "    }\n",
              "    30% {\n",
              "      border-color: transparent;\n",
              "      border-left-color: var(--fill-color);\n",
              "      border-top-color: var(--fill-color);\n",
              "      border-right-color: var(--fill-color);\n",
              "    }\n",
              "    40% {\n",
              "      border-color: transparent;\n",
              "      border-right-color: var(--fill-color);\n",
              "      border-top-color: var(--fill-color);\n",
              "    }\n",
              "    60% {\n",
              "      border-color: transparent;\n",
              "      border-right-color: var(--fill-color);\n",
              "    }\n",
              "    80% {\n",
              "      border-color: transparent;\n",
              "      border-right-color: var(--fill-color);\n",
              "      border-bottom-color: var(--fill-color);\n",
              "    }\n",
              "    90% {\n",
              "      border-color: transparent;\n",
              "      border-bottom-color: var(--fill-color);\n",
              "    }\n",
              "  }\n",
              "</style>\n",
              "\n",
              "  <script>\n",
              "    async function quickchart(key) {\n",
              "      const quickchartButtonEl =\n",
              "        document.querySelector('#' + key + ' button');\n",
              "      quickchartButtonEl.disabled = true;  // To prevent multiple clicks.\n",
              "      quickchartButtonEl.classList.add('colab-df-spinner');\n",
              "      try {\n",
              "        const charts = await google.colab.kernel.invokeFunction(\n",
              "            'suggestCharts', [key], {});\n",
              "      } catch (error) {\n",
              "        console.error('Error during call to suggestCharts:', error);\n",
              "      }\n",
              "      quickchartButtonEl.classList.remove('colab-df-spinner');\n",
              "      quickchartButtonEl.classList.add('colab-df-quickchart-complete');\n",
              "    }\n",
              "    (() => {\n",
              "      let quickchartButtonEl =\n",
              "        document.querySelector('#df-2648eb2e-31c5-4d95-abd0-0261afe0414d button');\n",
              "      quickchartButtonEl.style.display =\n",
              "        google.colab.kernel.accessAllowed ? 'block' : 'none';\n",
              "    })();\n",
              "  </script>\n",
              "</div>\n",
              "\n",
              "  <div id=\"id_dbab8a44-4aa2-4640-a35a-85e2db0acfe5\">\n",
              "    <style>\n",
              "      .colab-df-generate {\n",
              "        background-color: #E8F0FE;\n",
              "        border: none;\n",
              "        border-radius: 50%;\n",
              "        cursor: pointer;\n",
              "        display: none;\n",
              "        fill: #1967D2;\n",
              "        height: 32px;\n",
              "        padding: 0 0 0 0;\n",
              "        width: 32px;\n",
              "      }\n",
              "\n",
              "      .colab-df-generate:hover {\n",
              "        background-color: #E2EBFA;\n",
              "        box-shadow: 0px 1px 2px rgba(60, 64, 67, 0.3), 0px 1px 3px 1px rgba(60, 64, 67, 0.15);\n",
              "        fill: #174EA6;\n",
              "      }\n",
              "\n",
              "      [theme=dark] .colab-df-generate {\n",
              "        background-color: #3B4455;\n",
              "        fill: #D2E3FC;\n",
              "      }\n",
              "\n",
              "      [theme=dark] .colab-df-generate:hover {\n",
              "        background-color: #434B5C;\n",
              "        box-shadow: 0px 1px 3px 1px rgba(0, 0, 0, 0.15);\n",
              "        filter: drop-shadow(0px 1px 2px rgba(0, 0, 0, 0.3));\n",
              "        fill: #FFFFFF;\n",
              "      }\n",
              "    </style>\n",
              "    <button class=\"colab-df-generate\" onclick=\"generateWithVariable('df_mulheres')\"\n",
              "            title=\"Generate code using this dataframe.\"\n",
              "            style=\"display:none;\">\n",
              "\n",
              "  <svg xmlns=\"http://www.w3.org/2000/svg\" height=\"24px\"viewBox=\"0 0 24 24\"\n",
              "       width=\"24px\">\n",
              "    <path d=\"M7,19H8.4L18.45,9,17,7.55,7,17.6ZM5,21V16.75L18.45,3.32a2,2,0,0,1,2.83,0l1.4,1.43a1.91,1.91,0,0,1,.58,1.4,1.91,1.91,0,0,1-.58,1.4L9.25,21ZM18.45,9,17,7.55Zm-12,3A5.31,5.31,0,0,0,4.9,8.1,5.31,5.31,0,0,0,1,6.5,5.31,5.31,0,0,0,4.9,4.9,5.31,5.31,0,0,0,6.5,1,5.31,5.31,0,0,0,8.1,4.9,5.31,5.31,0,0,0,12,6.5,5.46,5.46,0,0,0,6.5,12Z\"/>\n",
              "  </svg>\n",
              "    </button>\n",
              "    <script>\n",
              "      (() => {\n",
              "      const buttonEl =\n",
              "        document.querySelector('#id_dbab8a44-4aa2-4640-a35a-85e2db0acfe5 button.colab-df-generate');\n",
              "      buttonEl.style.display =\n",
              "        google.colab.kernel.accessAllowed ? 'block' : 'none';\n",
              "\n",
              "      buttonEl.onclick = () => {\n",
              "        google.colab.notebook.generateWithVariable('df_mulheres');\n",
              "      }\n",
              "      })();\n",
              "    </script>\n",
              "  </div>\n",
              "\n",
              "    </div>\n",
              "  </div>\n"
            ],
            "application/vnd.google.colaboratory.intrinsic+json": {
              "type": "dataframe",
              "variable_name": "df_mulheres"
            }
          },
          "metadata": {},
          "execution_count": 65
        }
      ]
    },
    {
      "cell_type": "markdown",
      "source": [
        "---\n",
        "# Explicação:\n",
        "\n",
        "---\n",
        "* **df_mulheres = data[data[\"sexo\"] == \"F\"][[\"idade\", \"sexo\"]]**: Cria um novo DataFrame chamado df_mulheres que contém apenas as linhas do DataFrame original (data) onde a coluna \"sexo\" é igual a \"F\" (feminino). A expressão [[\"idade\", \"sexo\"]] seleciona as colunas \"idade\" e \"sexo\" do DataFrame original para o novo DataFrame df_mulheres."
      ],
      "metadata": {
        "id": "stGNxnb6O7iL"
      }
    },
    {
      "cell_type": "code",
      "source": [
        "# 3. Contar as mulheres com idade maior que 20 anos\n",
        "x = len(df_mulheres[df_mulheres[\"idade\"] > 20])  # Calcula o número de mulheres no DataFrame df_mulheres com idade maior que 20 anos e armazena esse número em x.\n",
        "x"
      ],
      "metadata": {
        "colab": {
          "base_uri": "https://localhost:8080/"
        },
        "id": "Vl1-ZUXdO7_5",
        "outputId": "74d04731-8d54-4d9e-d104-32d979a75dc2"
      },
      "execution_count": 66,
      "outputs": [
        {
          "output_type": "execute_result",
          "data": {
            "text/plain": [
              "992223"
            ]
          },
          "metadata": {},
          "execution_count": 66
        }
      ]
    },
    {
      "cell_type": "markdown",
      "source": [
        "---\n",
        "# Explicação:\n",
        "\n",
        "---\n",
        "* **x = len(df_mulheres[df_mulheres[\"idade\"] > 20])**: Calcula o número de mulheres no DataFrame df_mulheres que têm idade maior que 20 anos. A expressão df_mulheres[\"idade\"] > 20 cria uma máscara booleana que identifica as linhas onde a idade é maior que 20. A função len() conta o número de linhas que atendem a essa condição, e o resultado é armazenado na variável x."
      ],
      "metadata": {
        "id": "aNwjlBnzO-c9"
      }
    },
    {
      "cell_type": "code",
      "source": [
        "# 4. Contar o número total de mulheres\n",
        "n = len(df_mulheres)  # Calcula o número total de mulheres no DataFrame df_mulheres e armazena esse número em n.\n",
        "n"
      ],
      "metadata": {
        "colab": {
          "base_uri": "https://localhost:8080/"
        },
        "id": "FD5FiBnVO-zF",
        "outputId": "8dbd49f7-876e-4bbf-f5c1-287faa0a22ec"
      },
      "execution_count": 67,
      "outputs": [
        {
          "output_type": "execute_result",
          "data": {
            "text/plain": [
              "2712847"
            ]
          },
          "metadata": {},
          "execution_count": 67
        }
      ]
    },
    {
      "cell_type": "markdown",
      "source": [
        "---\n",
        "# Explicação:\n",
        "\n",
        "---\n",
        "* **n = len(df_mulheres)**: Calcula o número total de mulheres no DataFrame df_mulheres e armazena o resultado na variável n."
      ],
      "metadata": {
        "id": "GDFsvoV1PB_H"
      }
    },
    {
      "cell_type": "code",
      "source": [
        "# 5. Definir a hipótese nula e a proporção populacional\n",
        "p0 = 0.5  # Proporção populacional sob a hipótese nula (50%)."
      ],
      "metadata": {
        "id": "Dv3IjN2bPCSM"
      },
      "execution_count": 68,
      "outputs": []
    },
    {
      "cell_type": "markdown",
      "source": [
        "---\n",
        "# Explicação:\n",
        "\n",
        "---\n",
        "* **p0 = 0.5**: Define a proporção populacional sob a hipótese nula, que é 50%. Isso significa que estamos assumindo inicialmente que 50% das mulheres na população têm mais de 20 anos."
      ],
      "metadata": {
        "id": "ZG_HHcmzPEOo"
      }
    },
    {
      "cell_type": "code",
      "source": [
        "# 6. Executar o teste z\n",
        "stat, p_value = proportions_ztest(count=x, nobs=n, value=p0, alternative='larger')  # Realiza o teste z de uma proporção:\n",
        "    # count=x: Fornece o número de mulheres com mais de 20 anos (calculado em x).\n",
        "    # nobs=n: Fornece o número total de mulheres (calculado em n).\n",
        "    # value=p0: Fornece a proporção populacional sob a hipótese nula (0.5).\n",
        "    # alternative='larger': Indica que estamos testando se a proporção real é maior do que a proporção da hipótese nula.\n",
        "    # As variáveis stat (estatística z) e p_value (valor p) são armazenadas para uso posterior.\n",
        "print(f\"Estatística z: {stat}\")\n",
        "print(f\"Valor p: {p_value}\")"
      ],
      "metadata": {
        "colab": {
          "base_uri": "https://localhost:8080/"
        },
        "id": "Q3JHzBj5PEex",
        "outputId": "0dd3ed6c-4294-4f1b-86e0-790ddea48884"
      },
      "execution_count": 69,
      "outputs": [
        {
          "output_type": "stream",
          "name": "stdout",
          "text": [
            "Estatística z: -459.09816305596917\n",
            "Valor p: 1.0\n"
          ]
        }
      ]
    },
    {
      "cell_type": "markdown",
      "source": [
        "---\n",
        "# Explicação:\n",
        "\n",
        "---\n",
        "* **stat, p_value = proportions_ztest(count=x, nobs=n, value=p0, alternative='larger'): Realiza o teste z de uma proporção usando a função proportions_ztest.**\n",
        " * **count=x**: Fornece o número de mulheres com mais de 20 anos (x) para o teste.\n",
        " * **nobs=n**: Fornece o número total de mulheres (n) para o teste.\n",
        " * **value=p0**: Fornece a proporção populacional sob a hipótese nula (0.5) para o teste.\n",
        " * **alternative='larger'**: Especifica que estamos testando se a proporção real é maior do que a proporção da hipótese nula.\n",
        " * **O teste retorna dois valores**: a estatística z (stat) e o valor p (p_value)."
      ],
      "metadata": {
        "id": "EqZXnsmdPG5C"
      }
    },
    {
      "cell_type": "code",
      "source": [
        "# 7. Definir o nível de significância\n",
        "nivel_significancia = 0.05  # Define o nível de significância, que é o limite para rejeitar a hipótese nula.\n",
        "\n",
        "# 8. Imprimir os resultados\n",
        "print(f\"Estatística z: {stat}\")  # Imprime a estatística z do teste.\n",
        "print(f\"Valor p: {p_value}\")  # Imprime o valor p do teste."
      ],
      "metadata": {
        "colab": {
          "base_uri": "https://localhost:8080/"
        },
        "id": "0vzQtrejPHOR",
        "outputId": "34f01a3e-3192-4206-a6c9-0bf2825a0003"
      },
      "execution_count": 70,
      "outputs": [
        {
          "output_type": "stream",
          "name": "stdout",
          "text": [
            "Estatística z: -459.09816305596917\n",
            "Valor p: 1.0\n"
          ]
        }
      ]
    },
    {
      "cell_type": "markdown",
      "source": [
        "---\n",
        "# Explicação:\n",
        "\n",
        "---\n",
        "* **nivel_significancia = 0.05**: Define o nível de significância, que é o limite para rejeitar a hipótese nula. Um nível de significância de 0.05 significa que há uma chance de 5% de rejeitar a hipótese nula quando ela é realmente verdadeira.\n",
        "\n",
        "* **print(f\"Estatística z: {stat}\")**: Imprime a estatística z calculada pelo teste.\n",
        "* **print(f\"Valor p: {p_value}\")**: Imprime o valor p calculado pelo teste."
      ],
      "metadata": {
        "id": "2aEbWBTzPK9o"
      }
    },
    {
      "cell_type": "code",
      "source": [
        "# 9. Decisão\n",
        "if p_value < nivel_significancia:  # Compara o valor p com o nível de significância:\n",
        "    print(\"Rejeitamos a hipótese nula. A proporção de mulheres com idade maior que 20 anos é maior que 50%.\")  # Se p_value < nivel_significancia, rejeitamos a hipótese nula.\n",
        "else:  # Se p_value >= nivel_significancia, não rejeitamos a hipótese nula.\n",
        "    print(\"Não rejeitamos a hipótese nula. Não há evidências suficientes para concluir que a proporção de mulheres com idade maior que 20 anos é maior que 50%.\")"
      ],
      "metadata": {
        "colab": {
          "base_uri": "https://localhost:8080/"
        },
        "id": "p81gTqCNPLOO",
        "outputId": "ca058aff-9e60-401a-acd2-fffcfca3fcea"
      },
      "execution_count": 71,
      "outputs": [
        {
          "output_type": "stream",
          "name": "stdout",
          "text": [
            "Não rejeitamos a hipótese nula. Não há evidências suficientes para concluir que a proporção de mulheres com idade maior que 20 anos é maior que 50%.\n"
          ]
        }
      ]
    },
    {
      "cell_type": "markdown",
      "source": [
        "---\n",
        "# Explicação:\n",
        "\n",
        "---\n",
        "* **if p_value < nivel_significancia:**: Verifica se o valor p é menor que o nível de significância.\n",
        " * **Se p_value < nivel_significancia**, rejeitamos a hipótese nula. Isso significa que há evidências suficientes para concluir que a proporção real de mulheres com mais de 20 anos é significativamente maior do que 50%.\n",
        " * **Se p_value >= nivel_significancia**, não rejeitamos a hipótese nula. Isso significa que não há evidências suficientes para concluir que a proporção real de mulheres com mais de 20 anos é significativamente maior do que 50%."
      ],
      "metadata": {
        "id": "SwT97aLZPN5_"
      }
    },
    {
      "cell_type": "code",
      "source": [
        "# 10. Criar o gráfico da distribuição normal\n",
        "x = np.linspace(-5, 5, 100)  # Define um intervalo de valores para o eixo x.\n",
        "y = norm.pdf(x)  # Calcula a densidade de probabilidade da distribuição normal para cada valor de x.\n",
        "plt.plot(x, y)  # Plota o gráfico da distribuição normal.\n",
        "\n",
        "# 11. Marcar a estatística z\n",
        "plt.axvline(stat, color='red', linestyle='--')  # Adiciona uma linha vertical vermelha tracejada no gráfico para representar a estatística z calculada.\n",
        "\n",
        "# 12. Sombrear a área do valor p\n",
        "x_shade = np.linspace(stat, 5, 100)  # Define um intervalo de valores para a área do valor p.\n",
        "y_shade = norm.pdf(x_shade)  # Calcula a densidade de probabilidade da distribuição normal para cada valor de x_shade.\n",
        "plt.fill_between(x_shade, y_shade, color='red', alpha=0.5)  # Sombreia a área da distribuição normal à direita da estatística z, que representa a área do valor p.\n",
        "\n",
        "# 13. Rotular os eixos\n",
        "plt.xlabel(\"Estatística z\")  # Define o rótulo para o eixo x.\n",
        "plt.ylabel(\"Densidade de Probabilidade\")  # Define o rótulo para o eixo y.\n",
        "plt.title(\"Gráfico de Distribuição Normal com Área do Valor p\")  # Define o título do gráfico.\n",
        "plt.show()  # Exibe o gráfico."
      ],
      "metadata": {
        "colab": {
          "base_uri": "https://localhost:8080/",
          "height": 474
        },
        "id": "RwhNlpqJPOJF",
        "outputId": "32f1a65b-5d8f-4c5c-b33d-34da8e2d4997"
      },
      "execution_count": 72,
      "outputs": [
        {
          "output_type": "display_data",
          "data": {
            "text/plain": [
              "<Figure size 640x480 with 1 Axes>"
            ],
            "image/png": "[encoded data removed]"
          },
          "metadata": {}
        }
      ]
    },
    {
      "cell_type": "markdown",
      "source": [
        "---\n",
        "# Explicação:\n",
        "\n",
        "---\n",
        "\n",
        "* **Criando o Gráfico da Distribuição Normal:**\n",
        " * **x = np.linspace(-5, 5, 100)**: Cria um array de 100 valores igualmente espaçados no intervalo de -5 a 5, que representa o eixo x do gráfico da distribuição normal.\n",
        " * **y = norm.pdf(x)**: Calcula a densidade de probabilidade da distribuição normal para cada valor de x usando a função norm.pdf.\n",
        " * **plt.plot(x, y)**: Plota a distribuição normal usando os valores de x e y.\n",
        "* **Marcando a Estatística Z:**\n",
        " * **plt.axvline(stat, color='red', linestyle='--')**: Adiciona uma linha vertical vermelha tracejada ao gráfico para representar a estatística z calculada pelo teste.\n",
        "* **Sombreando a Área do Valor P:**\n",
        " * **x_shade = np.linspace(stat, 5, 100)**: Cria um array de 100 valores igualmente espaçados no intervalo da estatística z (stat) até 5, que representa a área do valor p no gráfico.\n",
        " * **y_shade = norm.pdf(x_shade)**: Calcula a densidade de probabilidade da distribuição normal para cada valor de x_shade.\n",
        " * **plt.fill_between(x_shade, y_shade, color='red', alpha=0.5)**: Sombreia a área da distribuição normal à direita da estatística z, que representa a área do valor p.\n",
        "* **Rotulando os Eixos:**\n",
        " * **plt.xlabel(\"Estatística z\")**: Define o rótulo do eixo x como \"Estatística z\".\n",
        " * **plt.ylabel(\"Densidade de Probabilidade\")**: Define o rótulo do eixo y como \"Densidade de Probabilidade\".\n",
        " * **plt.title(\"Gráfico de Distribuição Normal com Área do Valor p\")**: Define o título do gráfico.\n",
        "* **Exibindo o Gráfico:**\n",
        " * **plt.show()**: Exibe o gráfico da distribuição normal."
      ],
      "metadata": {
        "id": "xL82-MwxQ2La"
      }
    },
    {
      "cell_type": "markdown",
      "source": [
        "---\n",
        "\n",
        "\n",
        "# Glossário com as palavras chaves:\n",
        "\n",
        "\n",
        "---\n",
        "* **pandas**: Biblioteca Python para manipulação de dados em formato tabular.\n",
        "* **statsmodels.stats.proportion**: Submódulo da biblioteca statsmodels para testes estatísticos sobre proporções.\n",
        "* **scipy.stats**: Submódulo da biblioteca scipy que contém funções estatísticas.\n",
        "* **matplotlib.pyplot**: Submódulo da biblioteca matplotlib para criar gráficos.\n",
        "* **pd.read_csv**: Função para ler dados de um arquivo CSV e armazená-los em um DataFrame.\n",
        "* **proportions_ztest**: Função para realizar o teste z de uma proporção.\n",
        "* **norm.pdf**: Função para calcular a densidade de probabilidade da distribuição normal.\n",
        "* **np.linspace**: Função para criar um intervalo de valores.\n",
        "* **plt.plot**: Função para plotar gráficos.\n",
        "* **plt.axvline**: Função para adicionar uma linha vertical ao gráfico.\n",
        "* **plt.fill_between**: Função para sombrear áreas no gráfico.\n",
        "* **plt.xlabel**: Função para definir o rótulo do eixo x.\n",
        "* **plt.ylabel**: Função para definir o rótulo do eixo y.\n",
        "* **plt.title**: Função para definir o título do gráfico.\n",
        "* **plt.show**: Função para exibir o gráfico.\n",
        "* **data**: Nome da variável que armazena o DataFrame.\n",
        "* **df_mulheres**: Nome da variável que armazena o DataFrame com dados de mulheres.\n",
        "* **x**: Número de mulheres com idade maior que 20 anos.\n",
        "* **n**: Número total de mulheres.\n",
        "* **p0**: Proporção populacional sob a hipótese nula.\n",
        "* **stat**: Estatística z calculada.\n",
        "* **p_value**: Valor p do teste.\n",
        "* **nivel_significancia**: Nível de significância para o teste."
      ],
      "metadata": {
        "id": "-TppDBCkRJva"
      }
    },
    {
      "cell_type": "markdown",
      "source": [
        "---\n",
        "\n",
        "# Observação:\n",
        "\n",
        "\n",
        "---\n",
        "* Se o valor p for menor que o nível de significância, rejeitamos a hipótese nula e concluímos que a proporção de mulheres com idade maior que 20 anos é maior que 50%.\n",
        "\n",
        "* Se o valor p for maior ou igual ao nível de significância, não rejeitamos a hipótese nula e não há evidências suficientes para concluir que a proporção de mulheres com idade maior que 20 anos é maior que 50%.\n",
        "\n",
        "* O gráfico da distribuição normal mostra a área do valor p sombreada, proporcionando uma representação visual da probabilidade de observar os resultados obtidos se a hipótese nula fosse verdadeira."
      ],
      "metadata": {
        "id": "xxwLuadcRTRw"
      }
    }
  ]
}