{
  "nbformat": 4,
  "nbformat_minor": 0,
  "metadata": {
    "colab": {
      "provenance": []
    },
    "kernelspec": {
      "name": "python3",
      "display_name": "Python 3"
    },
    "language_info": {
      "name": "python"
    }
  },
  "cells": [
    {
      "cell_type": "markdown",
      "source": [
        "# Teste Z\n",
        "\n",
        "Vamos investigar como a faixa etária e o estado de origem das mulheres influenciam a nota da redação no ENEM. Para isso, utilizaremos a poderosa ferramenta estatística chamada Análise de Variância (ANOVA). A ANOVA nos permite analisar a variabilidade dos dados e determinar se a nota da redação é significativamente diferente entre as diferentes faixas de idade e estados.\n",
        "\n",
        "---\n",
        "\n",
        "\n",
        "**Hipótese Nula (H0): Não há diferença significativa na nota da redação entre as faixas de idade e os estados. Ou seja, a faixa de idade e o estado não influenciam a nota da redação.**\n",
        "\n",
        "**Hipótese Alternativa (H1): Há diferença significativa na nota da redação entre as faixas de idade e os estados. Ou seja, a faixa de idade e/ou o estado influenciam a nota da redação.**\n",
        "\n",
        "\n",
        "---\n",
        "\n",
        "Para realizar a análise, dividiremos a idade das mulheres em faixas e construiremos um modelo ANOVA que leva em consideração a interação entre as variáveis \"faixa de idade\" e \"estado\". O resultado do teste fornecerá informações valiosas sobre o impacto de cada fator na nota da redação.\n",
        "\n",
        "Para complementar a análise, criaremos um gráfico de barras que visualiza a média da nota da redação para cada combinação de faixa de idade e estado. Esse gráfico nos permitirá identificar padrões visuais e facilitar a interpretação dos resultados do teste.\n",
        "\n",
        "Com esse estudo, pretendemos entender se há diferenças significativas no desempenho na redação do ENEM entre mulheres de diferentes faixas etárias e estados, e se a interação entre esses fatores exerce alguma influência sobre a nota."
      ],
      "metadata": {
        "id": "j0ydGm4dNOrs"
      }
    },
    {
      "cell_type": "code",
      "execution_count": 1,
      "metadata": {
        "id": "i0mBRCu1NNZ6"
      },
      "outputs": [],
      "source": [
        "import pandas as pd\n",
        "import statsmodels.formula.api as sm\n",
        "import matplotlib.pyplot as plt"
      ]
    },
    {
      "cell_type": "markdown",
      "source": [
        "---\n",
        "# Explicação:\n",
        "\n",
        "---\n",
        "* **import pandas as pd**: Importa a biblioteca pandas, fundamental para trabalhar com dados estruturados em Python. Ela permite ler, manipular e analisar dados em DataFrames, que são como tabelas.\n",
        "* **import statsmodels.formula.api as sm**: Importa o módulo statsmodels.formula.api, abreviado como sm, que contém ferramentas para realizar análises estatísticas como regressão e ANOVA.\n",
        "* **import matplotlib.pyplot as plt**: Importa a biblioteca matplotlib.pyplot, abreviada como plt, que é usada para criar gráficos."
      ],
      "metadata": {
        "id": "vGRkuCNDbm1o"
      }
    },
    {
      "cell_type": "code",
      "source": [
        "# 1. Carregar a tabela\n",
        "data = pd.read_csv('enem_2019.csv')  # Lê os dados do arquivo CSV \"enem_2019.csv\" e os armazena no DataFrame 'data'."
      ],
      "metadata": {
        "id": "9uHSaGZWaE5A"
      },
      "execution_count": 2,
      "outputs": []
    },
    {
      "cell_type": "markdown",
      "source": [
        "---\n",
        "# Explicação:\n",
        "\n",
        "---\n",
        "* **data = pd.read_csv('enem_2019.csv')**: Assume que os dados já foram carregados em um DataFrame chamado data, provavelmente utilizando a função pd.read_csv para ler os dados de um arquivo CSV chamado \"enem_2019.csv\"."
      ],
      "metadata": {
        "id": "CovmLvq3O1Dx"
      }
    },
    {
      "cell_type": "code",
      "source": [
        "# 2. Filtrar as mulheres\n",
        "df_mulheres = data[data[\"sexo\"] == \"F\"]  # Cria um novo DataFrame 'df_mulheres' com apenas as linhas do DataFrame original 'data' onde o sexo é \"F\" (feminino)."
      ],
      "metadata": {
        "id": "4I_Lk19jafQ6"
      },
      "execution_count": 3,
      "outputs": []
    },
    {
      "cell_type": "markdown",
      "source": [
        "---\n",
        "# Explicação:\n",
        "\n",
        "---\n",
        "* **df_mulheres = data[data[\"sexo\"] == \"F\"]**: Cria um novo DataFrame chamado df_mulheres que contém apenas as linhas do DataFrame original data onde o valor na coluna \"sexo\" é igual a \"F\" (feminino). Isso filtra apenas as mulheres dos dados."
      ],
      "metadata": {
        "id": "HSn5PZJLat2e"
      }
    },
    {
      "cell_type": "code",
      "source": [
        "# 3. Criar faixas de idade\n",
        "df_mulheres.loc[:, \"faixa_idade\"] = pd.cut(df_mulheres[\"idade\"], bins=[15, 18, 21, 25, 30, 50], labels=[\"15-17\", \"18-20\", \"21-25\", \"25-30\", \"30+\"])  # Cria uma nova coluna 'faixa_idade' no DataFrame 'df_mulheres' categorizando a idade em faixas usando a função 'pd.cut'."
      ],
      "metadata": {
        "id": "b-qxtoDlaled"
      },
      "execution_count": 5,
      "outputs": []
    },
    {
      "cell_type": "markdown",
      "source": [
        "---\n",
        "# Explicação:\n",
        "\n",
        "---\n",
        "* **df_mulheres.loc[:, \"faixa_idade\"] = pd.cut(df_mulheres[\"idade\"], bins=[15, 18, 21, 25, 30, 50], labels=[\"15-17\", \"18-20\", \"21-25\", \"25-30\", \"30+\"])**: Essa linha é crucial para o teste ANOVA, pois transforma a variável \"idade\" em uma variável categórica:\n",
        " * **pd.cut**: A função pd.cut da biblioteca pandas é usada para dividir dados numéricos em intervalos (bins) e atribuir rótulos (labels) a cada intervalo.\n",
        " * **df_mulheres[\"idade\"]**: Define a coluna \"idade\" como os dados que serão categorizados.\n",
        " * **bins=[15, 18, 21, 25, 30, 50]**: Define os limites das faixas de idade, criando as seguintes faixas:\n",
        "   * 15-17\n",
        "   * 18-20\n",
        "   * 21-25\n",
        "   * 25-30\n",
        "   * 30-50\n",
        " * **labels=[\"15-17\", \"18-20\", \"21-25\", \"25-30\", \"30+\"]**: Define os rótulos que serão atribuídos a cada faixa de idade.\n",
        " * **df_mulheres[\"faixa_idade\"] = ...**: Cria uma nova coluna chamada \"faixa_idade\" no DataFrame df_mulheres com as faixas de idade categorizadas.\n",
        " * df_mulheres.loc[:, \"faixa_idade\"]: A indexação loc garante que você está modificando o DataFrame original, especificando todas as linhas (:) e a coluna faixa_idade."
      ],
      "metadata": {
        "id": "yrj6O4bYa3ys"
      }
    },
    {
      "cell_type": "code",
      "source": [
        "# 4. Criar o modelo ANOVA\n",
        "modelo = sm.ols('nota_redacao ~ C(faixa_idade) * C(estado)', data=df_mulheres)  # Cria um modelo de regressão linear com a função 'ols' da biblioteca statsmodels, usando a fórmula 'nota_redacao ~ C(faixa_idade) * C(estado)' para analisar a influência da faixa de idade e do estado na nota_redacao, considerando a interação entre as variáveis."
      ],
      "metadata": {
        "id": "K2k3ZARxanIW"
      },
      "execution_count": 6,
      "outputs": []
    },
    {
      "cell_type": "markdown",
      "source": [
        "---\n",
        "# Explicação:\n",
        "\n",
        "---\n",
        "* **modelo = sm.ols('nota_redacao ~ C(faixa_idade) * C(estado)', data=df_mulheres)**: Cria um modelo de regressão linear com a função ols do módulo sm para analisar a influência da faixa de idade e do estado na nota da redação.\n",
        " * **nota_redacao ~ C(faixa_idade) * C(estado)**: Define a fórmula do modelo. A variável dependente é nota_redacao. As variáveis independentes são faixa_idade e estado, e o operador * indica que queremos analisar a interação entre essas variáveis.\n",
        " * **C(faixa_idade) * C(estado)**: A função C() transforma as variáveis categóricas faixa_idade e estado em variáveis dummy (variáveis binárias que representam cada categoria).\n",
        " * **data=df_mulheres**: Define que o modelo usará os dados do DataFrame df_mulheres."
      ],
      "metadata": {
        "id": "o8Sgd9eAa7d3"
      }
    },
    {
      "cell_type": "code",
      "source": [
        "# 5. Ajustar o modelo e obter os resultados\n",
        "resultados = modelo.fit()  # Ajusta o modelo aos dados usando a função 'fit' e armazena os resultados em 'resultados'."
      ],
      "metadata": {
        "id": "TNmZxPsUao51"
      },
      "execution_count": 7,
      "outputs": []
    },
    {
      "cell_type": "markdown",
      "source": [
        "---\n",
        "# Explicação:\n",
        "\n",
        "---\n",
        "* **resultados = modelo.fit()**: Ajusta o modelo aos dados usando a função fit, que estima os parâmetros do modelo e armazena os resultados em resultados."
      ],
      "metadata": {
        "id": "EFznKD5QbCVg"
      }
    },
    {
      "cell_type": "code",
      "source": [
        "# 9. Imprimir os resultados do ANOVA\n",
        "print(resultados.summary())  # Imprime um resumo dos resultados da análise ANOVA, incluindo estatísticas como os valores p, a estatística F, os coeficientes e os intervalos de confiança."
      ],
      "metadata": {
        "colab": {
          "base_uri": "https://localhost:8080/"
        },
        "id": "NIcielzqaq5Y",
        "outputId": "f5d39c72-c35f-42d8-a700-3bb49cb50585"
      },
      "execution_count": 13,
      "outputs": [
        {
          "output_type": "stream",
          "name": "stdout",
          "text": [
            "                            OLS Regression Results                            \n",
            "==============================================================================\n",
            "Dep. Variable:           nota_redacao   R-squared:                       0.046\n",
            "Model:                            OLS   Adj. R-squared:                  0.046\n",
            "Method:                 Least Squares   F-statistic:                     820.0\n",
            "Date:                Fri, 28 Jun 2024   Prob (F-statistic):               0.00\n",
            "Time:                        02:22:37   Log-Likelihood:            -1.5014e+07\n",
            "No. Observations:             2265627   AIC:                         3.003e+07\n",
            "Df Residuals:                 2265492   BIC:                         3.003e+07\n",
            "Df Model:                         134                                         \n",
            "Covariance Type:            nonrobust                                         \n",
            "===========================================================================================================\n",
            "                                              coef    std err          t      P>|t|      [0.025      0.975]\n",
            "-----------------------------------------------------------------------------------------------------------\n",
            "Intercept                                 580.5764      2.483    233.802      0.000     575.709     585.443\n",
            "C(faixa_idade)[T.18-20]                   -32.4255      3.667     -8.843      0.000     -39.612     -25.239\n",
            "C(faixa_idade)[T.21-25]                   -61.1371      4.193    -14.582      0.000     -69.354     -52.920\n",
            "C(faixa_idade)[T.25-30]                   -88.3579      4.977    -17.753      0.000     -98.113     -78.603\n",
            "C(faixa_idade)[T.30+]                    -106.3952      4.550    -23.383      0.000    -115.313     -97.477\n",
            "C(estado)[T.AL]                             7.4522      2.856      2.610      0.009       1.855      13.049\n",
            "C(estado)[T.AM]                           -43.9316      2.847    -15.429      0.000     -49.512     -38.351\n",
            "C(estado)[T.AP]                           -10.9682      3.469     -3.162      0.002     -17.767      -4.170\n",
            "C(estado)[T.BA]                             7.7683      2.572      3.021      0.003       2.728      12.808\n",
            "C(estado)[T.CE]                            14.8308      2.577      5.754      0.000       9.779      19.882\n",
            "C(estado)[T.DF]                            52.6354      2.830     18.598      0.000      47.088      58.182\n",
            "C(estado)[T.ES]                            50.5307      2.786     18.137      0.000      45.070      55.991\n",
            "C(estado)[T.GO]                            21.7930      2.633      8.277      0.000      16.632      26.954\n",
            "C(estado)[T.MA]                           -26.3773      2.637    -10.003      0.000     -31.545     -21.209\n",
            "C(estado)[T.MG]                            39.2621      2.538     15.467      0.000      34.287      44.237\n",
            "C(estado)[T.MS]                             8.8444      2.898      3.051      0.002       3.164      14.525\n",
            "C(estado)[T.MT]                           -11.1427      2.803     -3.975      0.000     -16.637      -5.648\n",
            "C(estado)[T.PA]                            14.4699      2.627      5.509      0.000       9.322      19.618\n",
            "C(estado)[T.PB]                            37.0268      2.724     13.593      0.000      31.688      42.366\n",
            "C(estado)[T.PE]                             3.7821      2.594      1.458      0.145      -1.303       8.867\n",
            "C(estado)[T.PI]                            22.6405      2.746      8.244      0.000      17.258      28.023\n",
            "C(estado)[T.PR]                             6.7563      2.603      2.596      0.009       1.655      11.857\n",
            "C(estado)[T.RJ]                            53.8716      2.576     20.912      0.000      48.822      58.921\n",
            "C(estado)[T.RN]                            32.6644      2.821     11.581      0.000      27.136      38.193\n",
            "C(estado)[T.RO]                            -9.4619      3.084     -3.068      0.002     -15.507      -3.417\n",
            "C(estado)[T.RR]                           -48.0631      4.455    -10.787      0.000     -56.796     -39.330\n",
            "C(estado)[T.RS]                            30.8231      2.624     11.746      0.000      25.680      35.966\n",
            "C(estado)[T.SC]                            20.7615      2.684      7.735      0.000      15.501      26.022\n",
            "C(estado)[T.SE]                            51.8139      2.926     17.710      0.000      46.080      57.548\n",
            "C(estado)[T.SP]                            25.6012      2.513     10.186      0.000      20.675      30.527\n",
            "C(estado)[T.TO]                            -1.6700      3.052     -0.547      0.584      -7.651       4.311\n",
            "C(faixa_idade)[T.18-20]:C(estado)[T.AL]    11.8165      4.275      2.764      0.006       3.437      20.196\n",
            "C(faixa_idade)[T.21-25]:C(estado)[T.AL]     9.7200      4.993      1.947      0.052      -0.066      19.506\n",
            "C(faixa_idade)[T.25-30]:C(estado)[T.AL]    21.4458      6.073      3.531      0.000       9.542      33.349\n",
            "C(faixa_idade)[T.30+]:C(estado)[T.AL]      -3.1765      5.524     -0.575      0.565     -14.004       7.651\n",
            "C(faixa_idade)[T.18-20]:C(estado)[T.AM]    14.3486      4.260      3.368      0.001       6.000      22.698\n",
            "C(faixa_idade)[T.21-25]:C(estado)[T.AM]    34.4278      4.941      6.968      0.000      24.743      44.112\n",
            "C(faixa_idade)[T.25-30]:C(estado)[T.AM]    46.8468      5.914      7.921      0.000      35.256      58.438\n",
            "C(faixa_idade)[T.30+]:C(estado)[T.AM]      30.1293      5.300      5.684      0.000      19.741      40.518\n",
            "C(faixa_idade)[T.18-20]:C(estado)[T.AP]     6.0799      5.144      1.182      0.237      -4.003      16.163\n",
            "C(faixa_idade)[T.21-25]:C(estado)[T.AP]     8.6435      5.904      1.464      0.143      -2.928      20.215\n",
            "C(faixa_idade)[T.25-30]:C(estado)[T.AP]    26.4707      6.958      3.805      0.000      12.834      40.108\n",
            "C(faixa_idade)[T.30+]:C(estado)[T.AP]      23.8642      6.133      3.891      0.000      11.843      35.885\n",
            "C(faixa_idade)[T.18-20]:C(estado)[T.BA]     8.2938      3.809      2.178      0.029       0.829      15.759\n",
            "C(faixa_idade)[T.21-25]:C(estado)[T.BA]    12.4309      4.396      2.828      0.005       3.816      21.046\n",
            "C(faixa_idade)[T.25-30]:C(estado)[T.BA]    27.6166      5.273      5.237      0.000      17.281      37.952\n",
            "C(faixa_idade)[T.30+]:C(estado)[T.BA]       1.6213      4.787      0.339      0.735      -7.762      11.004\n",
            "C(faixa_idade)[T.18-20]:C(estado)[T.CE]    15.2141      3.880      3.921      0.000       7.610      22.818\n",
            "C(faixa_idade)[T.21-25]:C(estado)[T.CE]    23.1939      4.569      5.077      0.000      14.239      32.149\n",
            "C(faixa_idade)[T.25-30]:C(estado)[T.CE]    25.6349      5.551      4.618      0.000      14.755      36.514\n",
            "C(faixa_idade)[T.30+]:C(estado)[T.CE]      -4.8531      5.022     -0.966      0.334     -14.696       4.990\n",
            "C(faixa_idade)[T.18-20]:C(estado)[T.DF]    -5.0883      4.289     -1.186      0.236     -13.495       3.319\n",
            "C(faixa_idade)[T.21-25]:C(estado)[T.DF]    -8.0691      5.115     -1.578      0.115     -18.094       1.956\n",
            "C(faixa_idade)[T.25-30]:C(estado)[T.DF]    -9.8653      6.268     -1.574      0.116     -22.150       2.420\n",
            "C(faixa_idade)[T.30+]:C(estado)[T.DF]     -40.3197      5.460     -7.385      0.000     -51.021     -29.619\n",
            "C(faixa_idade)[T.18-20]:C(estado)[T.ES]     4.6791      4.226      1.107      0.268      -3.604      12.963\n",
            "C(faixa_idade)[T.21-25]:C(estado)[T.ES]   -15.5961      5.098     -3.059      0.002     -25.589      -5.604\n",
            "C(faixa_idade)[T.25-30]:C(estado)[T.ES]    -8.8625      6.270     -1.413      0.158     -21.152       3.427\n",
            "C(faixa_idade)[T.30+]:C(estado)[T.ES]     -33.9036      5.525     -6.136      0.000     -44.732     -23.075\n",
            "C(faixa_idade)[T.18-20]:C(estado)[T.GO]    25.4049      4.037      6.293      0.000      17.493      33.317\n",
            "C(faixa_idade)[T.21-25]:C(estado)[T.GO]    12.4805      4.820      2.590      0.010       3.034      21.927\n",
            "C(faixa_idade)[T.25-30]:C(estado)[T.GO]    17.7115      5.867      3.019      0.003       6.212      29.211\n",
            "C(faixa_idade)[T.30+]:C(estado)[T.GO]     -15.2189      5.250     -2.899      0.004     -25.508      -4.930\n",
            "C(faixa_idade)[T.18-20]:C(estado)[T.MA]    20.7962      3.927      5.296      0.000      13.100      28.493\n",
            "C(faixa_idade)[T.21-25]:C(estado)[T.MA]    38.3843      4.560      8.417      0.000      29.446      47.322\n",
            "C(faixa_idade)[T.25-30]:C(estado)[T.MA]    55.5006      5.503     10.086      0.000      44.715      66.286\n",
            "C(faixa_idade)[T.30+]:C(estado)[T.MA]      32.5422      5.001      6.507      0.000      22.740      42.344\n",
            "C(faixa_idade)[T.18-20]:C(estado)[T.MG]    37.4920      3.774      9.933      0.000      30.094      44.890\n",
            "C(faixa_idade)[T.21-25]:C(estado)[T.MG]    26.2272      4.367      6.006      0.000      17.668      34.786\n",
            "C(faixa_idade)[T.25-30]:C(estado)[T.MG]    27.8492      5.246      5.308      0.000      17.567      38.132\n",
            "C(faixa_idade)[T.30+]:C(estado)[T.MG]      -2.8458      4.767     -0.597      0.551     -12.190       6.498\n",
            "C(faixa_idade)[T.18-20]:C(estado)[T.MS]    -2.2909      4.582     -0.500      0.617     -11.272       6.690\n",
            "C(faixa_idade)[T.21-25]:C(estado)[T.MS]   -10.5109      5.503     -1.910      0.056     -21.296       0.275\n",
            "C(faixa_idade)[T.25-30]:C(estado)[T.MS]    -4.8686      6.626     -0.735      0.462     -17.854       8.117\n",
            "C(faixa_idade)[T.30+]:C(estado)[T.MS]     -19.9936      5.781     -3.459      0.001     -31.323      -8.664\n",
            "C(faixa_idade)[T.18-20]:C(estado)[T.MT]    17.0921      4.400      3.884      0.000       8.468      25.716\n",
            "C(faixa_idade)[T.21-25]:C(estado)[T.MT]     5.1157      5.261      0.972      0.331      -5.195      15.427\n",
            "C(faixa_idade)[T.25-30]:C(estado)[T.MT]    22.3248      6.410      3.483      0.000       9.761      34.888\n",
            "C(faixa_idade)[T.30+]:C(estado)[T.MT]       1.0316      5.603      0.184      0.854      -9.950      12.013\n",
            "C(faixa_idade)[T.18-20]:C(estado)[T.PA]    -0.2779      3.894     -0.071      0.943      -7.910       7.355\n",
            "C(faixa_idade)[T.21-25]:C(estado)[T.PA]     4.1735      4.476      0.932      0.351      -4.599      12.946\n",
            "C(faixa_idade)[T.25-30]:C(estado)[T.PA]    19.8567      5.322      3.731      0.000       9.426      30.288\n",
            "C(faixa_idade)[T.30+]:C(estado)[T.PA]      -0.7458      4.825     -0.155      0.877     -10.203       8.712\n",
            "C(faixa_idade)[T.18-20]:C(estado)[T.PB]    -5.6720      4.076     -1.392      0.164     -13.661       2.316\n",
            "C(faixa_idade)[T.21-25]:C(estado)[T.PB]    -6.8435      4.736     -1.445      0.148     -16.126       2.439\n",
            "C(faixa_idade)[T.25-30]:C(estado)[T.PB]    11.3631      5.690      1.997      0.046       0.212      22.515\n",
            "C(faixa_idade)[T.30+]:C(estado)[T.PB]     -14.8487      5.160     -2.878      0.004     -24.963      -4.735\n",
            "C(faixa_idade)[T.18-20]:C(estado)[T.PE]    28.3307      3.888      7.287      0.000      20.710      35.951\n",
            "C(faixa_idade)[T.21-25]:C(estado)[T.PE]    38.8853      4.538      8.570      0.000      29.992      47.779\n",
            "C(faixa_idade)[T.25-30]:C(estado)[T.PE]    41.9804      5.477      7.665      0.000      31.246      52.715\n",
            "C(faixa_idade)[T.30+]:C(estado)[T.PE]       7.6217      4.953      1.539      0.124      -2.086      17.329\n",
            "C(faixa_idade)[T.18-20]:C(estado)[T.PI]    -0.0268      4.122     -0.007      0.995      -8.106       8.052\n",
            "C(faixa_idade)[T.21-25]:C(estado)[T.PI]    -6.0414      4.850     -1.246      0.213     -15.548       3.465\n",
            "C(faixa_idade)[T.25-30]:C(estado)[T.PI]    16.3840      5.925      2.765      0.006       4.771      27.997\n",
            "C(faixa_idade)[T.30+]:C(estado)[T.PI]      -8.6891      5.329     -1.630      0.103     -19.134       1.756\n",
            "C(faixa_idade)[T.18-20]:C(estado)[T.PR]    33.1106      3.982      8.314      0.000      25.305      40.916\n",
            "C(faixa_idade)[T.21-25]:C(estado)[T.PR]    34.1728      4.706      7.261      0.000      24.948      43.397\n",
            "C(faixa_idade)[T.25-30]:C(estado)[T.PR]    39.6757      5.748      6.903      0.000      28.410      50.942\n",
            "C(faixa_idade)[T.30+]:C(estado)[T.PR]      15.5211      5.215      2.976      0.003       5.300      25.743\n",
            "C(faixa_idade)[T.18-20]:C(estado)[T.RJ]     8.1243      3.836      2.118      0.034       0.606      15.643\n",
            "C(faixa_idade)[T.21-25]:C(estado)[T.RJ]     7.2050      4.482      1.608      0.108      -1.580      15.990\n",
            "C(faixa_idade)[T.25-30]:C(estado)[T.RJ]     9.0071      5.413      1.664      0.096      -1.601      19.616\n",
            "C(faixa_idade)[T.30+]:C(estado)[T.RJ]     -19.5368      4.866     -4.015      0.000     -29.074     -10.000\n",
            "C(faixa_idade)[T.18-20]:C(estado)[T.RN]    11.5347      4.165      2.769      0.006       3.371      19.699\n",
            "C(faixa_idade)[T.21-25]:C(estado)[T.RN]    10.8951      4.845      2.249      0.025       1.399      20.391\n",
            "C(faixa_idade)[T.25-30]:C(estado)[T.RN]    23.0505      5.820      3.960      0.000      11.643      34.458\n",
            "C(faixa_idade)[T.30+]:C(estado)[T.RN]      -4.0371      5.292     -0.763      0.446     -14.410       6.335\n",
            "C(faixa_idade)[T.18-20]:C(estado)[T.RO]    -0.6707      4.695     -0.143      0.886      -9.874       8.532\n",
            "C(faixa_idade)[T.21-25]:C(estado)[T.RO]    -0.9082      5.441     -0.167      0.867     -11.572       9.755\n",
            "C(faixa_idade)[T.25-30]:C(estado)[T.RO]     9.7327      6.419      1.516      0.129      -2.848      22.313\n",
            "C(faixa_idade)[T.30+]:C(estado)[T.RO]      -2.4674      5.771     -0.428      0.669     -13.779       8.844\n",
            "C(faixa_idade)[T.18-20]:C(estado)[T.RR]    34.2189      7.035      4.864      0.000      20.431      48.007\n",
            "C(faixa_idade)[T.21-25]:C(estado)[T.RR]    56.8748      8.708      6.531      0.000      39.808      73.942\n",
            "C(faixa_idade)[T.25-30]:C(estado)[T.RR]    66.7798     10.886      6.135      0.000      45.444      88.116\n",
            "C(faixa_idade)[T.30+]:C(estado)[T.RR]      18.7271      9.756      1.919      0.055      -0.395      37.849\n",
            "C(faixa_idade)[T.18-20]:C(estado)[T.RS]    23.4451      3.932      5.962      0.000      15.738      31.152\n",
            "C(faixa_idade)[T.21-25]:C(estado)[T.RS]    15.8765      4.606      3.447      0.001       6.849      24.904\n",
            "C(faixa_idade)[T.25-30]:C(estado)[T.RS]    20.4153      5.587      3.654      0.000       9.464      31.367\n",
            "C(faixa_idade)[T.30+]:C(estado)[T.RS]      -4.0409      5.023     -0.804      0.421     -13.886       5.804\n",
            "C(faixa_idade)[T.18-20]:C(estado)[T.SC]    32.3921      4.255      7.613      0.000      24.053      40.732\n",
            "C(faixa_idade)[T.21-25]:C(estado)[T.SC]    20.5256      5.260      3.903      0.000      10.217      30.834\n",
            "C(faixa_idade)[T.25-30]:C(estado)[T.SC]    25.0671      6.495      3.859      0.000      12.337      37.797\n",
            "C(faixa_idade)[T.30+]:C(estado)[T.SC]      13.1408      5.929      2.216      0.027       1.520      24.761\n",
            "C(faixa_idade)[T.18-20]:C(estado)[T.SE]    -8.4584      4.388     -1.928      0.054     -17.059       0.142\n",
            "C(faixa_idade)[T.21-25]:C(estado)[T.SE]   -17.3759      5.164     -3.365      0.001     -27.496      -7.256\n",
            "C(faixa_idade)[T.25-30]:C(estado)[T.SE]   -10.1246      6.298     -1.607      0.108     -22.469       2.220\n",
            "C(faixa_idade)[T.30+]:C(estado)[T.SE]     -25.8653      5.739     -4.507      0.000     -37.114     -14.616\n",
            "C(faixa_idade)[T.18-20]:C(estado)[T.SP]    40.1625      3.751     10.706      0.000      32.810      47.515\n",
            "C(faixa_idade)[T.21-25]:C(estado)[T.SP]    25.9652      4.346      5.975      0.000      17.448      34.483\n",
            "C(faixa_idade)[T.25-30]:C(estado)[T.SP]    24.3355      5.229      4.654      0.000      14.087      34.584\n",
            "C(faixa_idade)[T.30+]:C(estado)[T.SP]      -9.2020      4.738     -1.942      0.052     -18.488       0.084\n",
            "C(faixa_idade)[T.18-20]:C(estado)[T.TO]    12.0828      4.780      2.528      0.011       2.714      21.452\n",
            "C(faixa_idade)[T.21-25]:C(estado)[T.TO]     4.7277      5.849      0.808      0.419      -6.736      16.191\n",
            "C(faixa_idade)[T.25-30]:C(estado)[T.TO]    18.5675      7.415      2.504      0.012       4.033      33.101\n",
            "C(faixa_idade)[T.30+]:C(estado)[T.TO]       2.2521      6.863      0.328      0.743     -11.198      15.702\n",
            "==============================================================================\n",
            "Omnibus:                   245929.332   Durbin-Watson:                   1.975\n",
            "Prob(Omnibus):                  0.000   Jarque-Bera (JB):           445801.811\n",
            "Skew:                          -0.737   Prob(JB):                         0.00\n",
            "Kurtosis:                       4.597   Cond. No.                         304.\n",
            "==============================================================================\n",
            "\n",
            "Notes:\n",
            "[1] Standard Errors assume that the covariance matrix of the errors is correctly specified.\n"
          ]
        }
      ]
    },
    {
      "cell_type": "markdown",
      "source": [
        "---\n",
        "# Explicação:\n",
        "\n",
        "---\n",
        "* **print(resultados.summary())**: Imprime um resumo dos resultados do modelo ajustado, incluindo a tabela ANOVA, coeficientes do modelo, estatísticas de ajuste e outras informações relevantes para interpretar o modelo."
      ],
      "metadata": {
        "id": "sJyBv8Nmb82c"
      }
    },
    {
      "cell_type": "markdown",
      "source": [
        "\n",
        "---\n",
        "\n",
        "# O que a ANOVA Está Analisando:\n",
        "\n",
        "\n",
        "---\n",
        "\n",
        "\n",
        "O teste ANOVA faz entender se a idade das mulheres e o estado onde elas fizeram o ENEM influenciam a nota da redação. Vai comparar as notas da redação entre os grupos de mulheres divididos por faixa de idade e estado.\n",
        "\n",
        "## Hipóteses:\n",
        "\n",
        "\n",
        "---\n",
        "\n",
        "\n",
        "* **Hipótese Nula (H0)**: Não há diferença significativa na nota da redação entre as faixas de idade e os estados. Ou seja, a faixa de idade e o estado não influenciam a nota da redação.\n",
        "\n",
        "* **Hipótese Alternativa (H1)**: Há diferença significativa na nota da redação entre as faixas de idade e os estados. Ou seja, a faixa de idade e/ou o estado influenciam a nota da redação.\n",
        "\n",
        "\n",
        "---\n",
        "\n",
        "\n",
        "## Resultados do Teste:\n",
        "\n",
        "\n",
        "---\n",
        "\n",
        "\n",
        "* **R-squared**: 0.046 - Isso significa que o modelo explica apenas 4.6% da variação na nota da redação. Em outras palavras, a faixa de idade e o estado juntos não são grandes preditores da nota da redação.\n",
        "* **Valores p**: Concentre-se nos valores p para cada variável (faixa de idade, estado e a interação entre elas).\n",
        "\n",
        "\n",
        "---\n",
        "\n",
        "\n",
        "## Significância:\n",
        "\n",
        "\n",
        "---\n",
        "\n",
        "\n",
        "* Se o valor p for menor que 0.05, rejeitamos a hipótese nula (H0). Isso significa que há evidências suficientes para concluir que a variável influencia significativamente a nota da redação.\n",
        "* Se o valor p for maior que 0.05, não rejeitamos a hipótese nula (H0). Isso significa que não há evidências suficientes para concluir que a variável influencia a nota da redação.\n",
        "\n",
        "---\n",
        "\n",
        "## Interpretando a Tabela:\n",
        "\n",
        "---\n",
        "\n",
        "* **Intercept:** O coeficiente de interceptação (580.5764) indica a nota média da redação para a faixa de referência (15-17) no estado de referência.\n",
        "\n",
        "## Faixa de Idade:\n",
        "\n",
        "* Todos os valores p para as faixas de idade são menores que 0.05, o que significa que a faixa de idade tem um impacto significativo na nota da redação.\n",
        "Os coeficientes negativos indicam que a nota da redação tende a diminuir conforme a idade aumenta.\n",
        "\n",
        "* Por exemplo, mulheres na faixa de idade 18-20 tendem a ter notas 32.4255 pontos mais baixas do que mulheres na faixa de referência (15-17) no estado de referência.\n",
        "\n",
        "---\n",
        "\n",
        "## Estado:\n",
        "\n",
        "\n",
        "* Todos os estados têm valores p menores que 0.05, o que significa que o estado tem um impacto significativo na nota da redação.\n",
        "* Os coeficientes indicam a diferença na nota da redação média para cada estado em relação ao estado de referência (o estado que não tem coeficiente no modelo).\n",
        "\n",
        "---\n",
        "\n",
        "## Interação:\n",
        "\n",
        "* O valor p da interação entre a faixa de idade e o estado é significativo (menor que 0.05). Isso indica que o efeito da faixa de idade na nota da redação varia de acordo com o estado. Ou seja, a relação entre a idade e a nota da redação não é a mesma em todos os estados.\n",
        "\n",
        "# Conclusão:\n",
        "\n",
        "* **O teste ANOVA indica que a faixa de idade e o estado das mulheres influenciam significativamente a nota da redação no ENEM. O efeito da idade na nota da redação varia de acordo com o estado, o que sugere que fatores específicos de cada estado podem influenciar a nota. No entanto, o modelo explica apenas 4.6% da variação na nota da redação, o que indica que outros fatores também podem estar influenciando a nota.**"
      ],
      "metadata": {
        "id": "jRgm45HPmDXa"
      }
    },
    {
      "cell_type": "markdown",
      "source": [
        "---\n",
        "\n",
        "\n",
        "# Glossário do resultado:\n",
        "\n",
        "\n",
        "---\n",
        "* **Dep. Variable: nota_redacao**: A variável dependente do modelo, que é a nota da redação.\n",
        "* **R-squared: 0.046**: O R-quadrado (ou coeficiente de determinação) indica a proporção da variância da variável dependente (nota da redação) que é explicada pelo modelo. Neste caso, o modelo explica apenas 4.6% da variância.\n",
        "* **Model: OLS**: O tipo de modelo usado é a Regressão Linear Ordinária (OLS, Ordinary Least Squares), que é um método comum para ajustar modelos de regressão linear.\n",
        "* **Adj. R-squared: 0.046**: O R-quadrado ajustado é uma versão do R-quadrado que considera o número de variáveis independentes no modelo. Ele é uma medida mais precisa do poder preditivo do modelo.\n",
        "* **Method: Least Squares: O método usado para estimar os parâmetros do modelo é o método de mínimos quadrados.\n",
        "* **F-statistic: 820.0**: A estatística F é uma medida da variância explicada pelo modelo em relação à variância não explicada. Um valor alto da estatística F indica que o modelo é um bom preditor dos dados.\n",
        "* **Prob (F-statistic): 0.00**: O valor p associado à estatística F. Um valor p menor que 0.05 indica que o modelo é significativo, ou seja, que pelo menos uma das variáveis independentes influencia a variável dependente.\n",
        "* **Log-Likelihood: -1.5014e+07**: A log-verossimilhança do modelo, que é uma medida de quão bem o modelo se ajusta aos dados.\n",
        "* **No. Observations: 2265627**: O número de observações no DataFrame usado para ajustar o modelo.\n",
        "* **AIC: 3.003e+07**: O Critério de Informação de Akaike (AIC) é uma medida de qualidade do modelo que penaliza modelos com mais parâmetros. Modelos com AIC menor são considerados melhores.\n",
        "* **Df Residuals: 2265492**: O número de graus de liberdade dos resíduos (erros) do modelo.\n",
        "* **BIC: 3.003e+07**: O Critério de Informação Bayesiana (BIC) é outra medida de qualidade do modelo que penaliza modelos com mais parâmetros.\n",
        "* **Df Model: 134**: O número de graus de liberdade do modelo, que é o número de variáveis independentes no modelo.\n",
        "* **Covariance Type**: nonrobust: O tipo de matriz de covariância dos erros.\n",
        "* **Intercept**: O coeficiente de intercepção do modelo.\n",
        "* **C(faixa_idade)[T.18-20]**: O coeficiente para a variável 'faixa_idade' quando a faixa de idade é \"18-20\". A notação \"[T.18-20]\" indica que esse coeficiente se refere à categoria \"18-20\" da variável 'faixa_idade'.\n",
        "* **C(estado)[T.AL]**: O coeficiente para a variável 'estado' quando o estado é \"AL\". A notação \"[T.AL]\" indica que esse coeficiente se refere à categoria \"AL\" da variável 'estado'.\n",
        "* **coef**: O coeficiente do modelo para a respectiva variável.\n",
        "* **std err**: O erro padrão do coeficiente.\n",
        "* **t**: A estatística t do teste t para o coeficiente.\n",
        "* **P>|t|**: O valor p do teste t para o coeficiente.\n",
        "[0.025 0.975]: O intervalo de confiança de 95% para o coeficiente."
      ],
      "metadata": {
        "id": "1Cp0Uy8MqVbt"
      }
    },
    {
      "cell_type": "code",
      "source": [
        "# 10. Criar gráfico de barras\n",
        "media_notas = df_mulheres.groupby([\"faixa_idade\", \"estado\"])[\"nota_redacao\"].mean().unstack()  # Calcula a média da nota da redação por faixa de idade e estado usando a função 'groupby' e 'mean' e organiza os resultados em uma tabela usando 'unstack'.\n",
        "media_notas.plot(kind=\"bar\")  # Cria um gráfico de barras com a função 'plot', usando o tipo de gráfico 'bar'.\n",
        "plt.xlabel(\"Faixa de Idade\")  # Define o rótulo do eixo x como \"Faixa de Idade\".\n",
        "plt.ylabel(\"Nota da Redação\")  # Define o rótulo do eixo y como \"Nota da Redação\".\n",
        "plt.title(\"Média da Nota da Redação por Faixa de Idade e Estado\")  # Define o título do gráfico.\n",
        "plt.show()  # Exibe o gráfico."
      ],
      "metadata": {
        "colab": {
          "base_uri": "https://localhost:8080/",
          "height": 657
        },
        "id": "MbQFOK2tasrb",
        "outputId": "35dd4b7b-081b-4a09-b0f1-409fe66fcbbb"
      },
      "execution_count": 9,
      "outputs": [
        {
          "output_type": "display_data",
          "data": {
            "text/plain": [
              "<Figure size 640x480 with 1 Axes>"
            ],
            "image/png": "[encoded data removed]"
          },
          "metadata": {}
        }
      ]
    },
    {
      "cell_type": "markdown",
      "source": [
        "---\n",
        "# Explicação:\n",
        "\n",
        "---\n",
        "* **media_notas = df_mulheres.groupby([\"faixa_idade\", \"estado\"])[\"nota_redacao\"].mean().unstack()**: Calcula a média da nota da redação para cada combinação de faixa de idade e estado:\n",
        " * **df_mulheres.groupby([\"faixa_idade\", \"estado\"])**: Agrupa os dados do DataFrame df_mulheres por faixa_idade e estado.\n",
        " * **[\"nota_redacao\"].mean()**: Calcula a média da coluna nota_redacao para cada grupo.\n",
        " * **.unstack()**: Reorganiza os dados agrupados em uma tabela com as faixas de idade como linhas e os estados como colunas.\n",
        "* **media_notas.plot(kind=\"bar\")**: Cria um gráfico de barras usando a função plot do DataFrame media_notas, com o tipo de gráfico 'bar'.\n",
        "* **plt.xlabel(\"Faixa de Idade\"), plt.ylabel(\"Nota da Redação\"), plt.title(\"Média da Nota da Redação por Faixa de Idade e Estado\")**: Define os rótulos dos eixos e o título do gráfico.\n",
        "* **plt.show()**: Exibe o gráfico na tela."
      ],
      "metadata": {
        "id": "43KCbwTvcDEW"
      }
    },
    {
      "cell_type": "markdown",
      "source": [
        "---\n",
        "# Analisando o grafico:\n",
        "\n",
        "---\n",
        "**O gráfico mostra a média da nota da redação no ENEM por faixa de idade e estado. Podemos observar alguns padrões interessantes:**\n",
        "\n",
        "* **Geralmente, a nota da redação é mais alta para mulheres de 18 a 20 anos:** As barras para essa faixa de idade tendem a ser mais altas do que as outras faixas, tanto em cada estado quanto em média.\n",
        "\n",
        "* **As notas tendem a diminuir conforme a idade aumenta:** Em geral, as médias das notas da redação tendem a diminuir para as faixas de idade mais altas, sugerindo que a idade pode influenciar o desempenho na redação.\n",
        "\n",
        "* **A nota da redação varia consideravelmente entre os estados:** As barras para cada estado mostram variações significativas nas médias, indicando que o estado também tem um impacto na nota da redação.\n",
        "\n",
        "* **Diferenças entre os estados:** O gráfico permite comparar diretamente a nota da redação média para cada faixa de idade em cada estado. Você pode identificar estados onde as mulheres tendem a ter notas mais altas ou mais baixas, em relação à média nacional.\n",
        "\n",
        "**Observações:**\n",
        "\n",
        "* **Interação:** É importante notar que a influência da faixa de idade na nota da redação parece variar de acordo com o estado, como destacado no teste ANOVA. Isso indica que a relação entre a idade e a nota da redação não é uniforme em todos os estados.\n",
        "\n",
        "* **Outras variáveis:** O gráfico mostra apenas a relação entre a idade, o estado e a nota da redação. É importante lembrar que outros fatores podem influenciar o desempenho na redação, como o nível socioeconômico, a escolaridade, a região, etc.\n",
        "\n",
        "**Para continuar a análise:**\n",
        "\n",
        "* **Investigar a interação:** Realizar uma análise mais aprofundada para entender a interação entre a faixa de idade e o estado, examinando os coeficientes do modelo ANOVA e realizando testes de comparação de médias (**como teste t de duas amostras**) para identificar diferenças específicas entre os estados.\n",
        "Analisar outros fatores: Investigar o impacto de outras variáveis que podem influenciar a nota da redação, como nível socioeconômico, escolaridade, acesso a recursos educacionais, etc.\n",
        "\n",
        "---\n",
        "\n",
        "\n",
        "O gráfico e a análise do ANOVA fornecem uma primeira visão sobre a influência da idade e do estado na nota da redação. No entanto, uma análise mais aprofundada é necessária para entender completamente os fatores que contribuem para o desempenho na redação do ENEM."
      ],
      "metadata": {
        "id": "DsiZYTm0ku4u"
      }
    },
    {
      "cell_type": "markdown",
      "source": [
        "---\n",
        "\n",
        "\n",
        "# Glossário com as palavras chaves:\n",
        "\n",
        "\n",
        "---\n",
        "* **pandas**: Biblioteca Python para manipulação de dados em formato tabular (DataFrames).\n",
        "* **statsmodels.formula.api**: Módulo da biblioteca statsmodels que fornece funções para realizar análise de regressão e testes de hipóteses.\n",
        "* **sm**: Apelido para o módulo statsmodels.formula.api.\n",
        "* **pd.read_csv**: Função para ler dados de um arquivo CSV e armazená-los em um DataFrame.\n",
        "* **pd.cut**: Função para categorizar dados numéricos em faixas.\n",
        "* **sm.ols**: Função para criar um modelo de regressão linear.\n",
        "* **modelo**: Nome da variável que armazena o modelo ANOVA.\n",
        "* **resultados**: Nome da variável que armazena os resultados do ajuste do modelo.\n",
        "* **print**: Função para imprimir mensagens no console.\n",
        "* **data**: Nome da variável que armazena o DataFrame com os dados.\n",
        "* **df_mulheres**: Nome da variável que armazena o DataFrame filtrado com dados de mulheres.\n",
        "* **nota_redacao**: Nome da coluna que representa a nota da redação no DataFrame.\n",
        "* **idade**: Nome da coluna que representa a idade no DataFrame.\n",
        "* **estado**: Nome da coluna que representa o estado no DataFrame.\n",
        "* **faixa_idade**: Nome da coluna criada para categorizar a idade em faixas.\n",
        "* **C()**: Função para transformar variáveis categóricas em variáveis dummy.\n",
        "* *: Operador para indicar interação entre variáveis.\n",
        "* **fit**: Função para ajustar o modelo aos dados.\n",
        "* **summary**: Função para gerar um resumo dos resultados do modelo.\n",
        "* **groupby**: Função para agrupar dados por uma ou mais colunas.\n",
        "* **mean**: Função para calcular a média de um grupo de dados.\n",
        "* **unstack**: Função para reorganizar dados agrupados em uma tabela.\n",
        "* **plt.xlabel**: Função para definir o rótulo do eixo x.\n",
        "* **plt.ylabel**: Função para definir o rótulo do eixo y.\n",
        "* **plt.title**: Função para definir o título do gráfico.\n",
        "* **plt.show**: Função para exibir o gráfico.\n",
        "* **plt.plot**: Função para criar um gráfico.\n",
        "* **kind=\"bar\"**: Define o tipo de gráfico como barras."
      ],
      "metadata": {
        "id": "-TppDBCkRJva"
      }
    },
    {
      "cell_type": "markdown",
      "source": [
        "---\n",
        "\n",
        "# Observação:\n",
        "\n",
        "\n",
        "---\n",
        "* O resumo do modelo ANOVA (impresso pela função summary()) fornece informações sobre o efeito da faixa de idade e do estado na nota da redação. O valor p para cada variável indica a significância do efeito.\n",
        "* O gráfico de barras visualiza a média da nota da redação por faixa de idade e estado, permitindo uma comparação visual do desempenho entre os grupos.\n",
        "\n",
        "* É importante considerar o contexto dos dados e o tamanho da amostra ao interpretar os resultados do ANOVA.\n",
        "* O ANOVA é uma ferramenta poderosa para analisar a influência de múltiplas variáveis independentes em uma variável dependente, mas é crucial garantir que os dados atendam às premissas do teste (normalidade, homogeneidade da variância, independência)."
      ],
      "metadata": {
        "id": "xxwLuadcRTRw"
      }
    }
  ]
}